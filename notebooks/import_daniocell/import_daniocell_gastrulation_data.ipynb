{
 "cells": [
  {
   "cell_type": "code",
   "execution_count": 1,
   "id": "3c3909db-b720-438d-af11-c65f0c07ea07",
   "metadata": {},
   "outputs": [],
   "source": [
    "library(data.table)"
   ]
  },
  {
   "cell_type": "code",
   "execution_count": 2,
   "id": "bb455ad2-e0c4-4904-8bdb-6aa12423e11f",
   "metadata": {},
   "outputs": [
    {
     "name": "stderr",
     "output_type": "stream",
     "text": [
      "Loading required package: SeuratObject\n",
      "\n",
      "Loading required package: sp\n",
      "\n",
      "\n",
      "Attaching package: ‘SeuratObject’\n",
      "\n",
      "\n",
      "The following objects are masked from ‘package:base’:\n",
      "\n",
      "    intersect, t\n",
      "\n",
      "\n",
      "\n",
      "Attaching package: ‘anndata’\n",
      "\n",
      "\n",
      "The following object is masked from ‘package:SeuratObject’:\n",
      "\n",
      "    Layers\n",
      "\n",
      "\n"
     ]
    }
   ],
   "source": [
    "library(Seurat)\n",
    "library(anndata)\n",
    "library(Matrix)"
   ]
  },
  {
   "cell_type": "code",
   "execution_count": 3,
   "id": "8dd4ed95-60e8-4ff2-87cd-028b83d301ed",
   "metadata": {},
   "outputs": [],
   "source": [
    "source(\"convert_seurat_object_to_anndata_raw_counts.r\")"
   ]
  },
  {
   "cell_type": "code",
   "execution_count": 4,
   "id": "ad007c51-a1ec-483a-9db6-585cd8c78d5f",
   "metadata": {},
   "outputs": [],
   "source": [
    "daniocell = readRDS('../../data/Daniocell2023_SeuratV4.rds')"
   ]
  },
  {
   "cell_type": "code",
   "execution_count": 5,
   "id": "955148de-af45-46db-a446-664714e68082",
   "metadata": {},
   "outputs": [],
   "source": [
    "cell_metadata = daniocell@meta.data"
   ]
  },
  {
   "cell_type": "code",
   "execution_count": 6,
   "id": "7eee7444-f2c9-4919-8dda-835a92a7a5a4",
   "metadata": {},
   "outputs": [],
   "source": [
    "cells_gastrulation = rownames(cell_metadata)[cell_metadata$hpf < 13]"
   ]
  },
  {
   "cell_type": "code",
   "execution_count": 7,
   "id": "b2e7a17d-68ad-475f-a9cd-9f43520f1175",
   "metadata": {},
   "outputs": [
    {
     "name": "stdout",
     "output_type": "stream",
     "text": [
      "[1] \"Maximal rounding error: 3.63797880709171e-12\"\n"
     ]
    }
   ],
   "source": [
    "adata = convert_to_anndata(seurat_obj = daniocell,cells_subset = cells_gastrulation)"
   ]
  },
  {
   "cell_type": "code",
   "execution_count": 8,
   "id": "c8f11813-5335-4eb1-8d8f-f08bea3a6db8",
   "metadata": {},
   "outputs": [],
   "source": [
    "adata$obs$nCount_MS = NULL\n",
    "adata$obs$nFeature_MS = NULL\n",
    "adata$obs$MS_class_Seurat = NULL\n",
    "adata$obs$MS_class_SNR = NULL"
   ]
  },
  {
   "cell_type": "code",
   "execution_count": 9,
   "id": "095c36d4-2e1d-4da8-9175-9f1daa4b868b",
   "metadata": {},
   "outputs": [],
   "source": [
    "write_h5ad(anndata = adata,filename = '../../data/daniocell_gastrulation.h5ad')"
   ]
  },
  {
   "cell_type": "code",
   "execution_count": 10,
   "id": "b50b4c6e-b58c-459e-b060-2d03b9ae444f",
   "metadata": {},
   "outputs": [
    {
     "data": {
      "text/plain": [
       "AnnData object with n_obs × n_vars = 38731 × 36250\n",
       "    obs: 'nCount_RNA', 'nFeature_RNA', 'percent.mt', 'percent.ribo', 'method', 'sample', 'hpf', 'hpf.nice', 'stage.group', 'subset.full', 'subset', 'cluster'"
      ]
     },
     "metadata": {},
     "output_type": "display_data"
    }
   ],
   "source": [
    "adata"
   ]
  }
 ],
 "metadata": {
  "kernelspec": {
   "display_name": "R",
   "language": "R",
   "name": "ir"
  },
  "language_info": {
   "codemirror_mode": "r",
   "file_extension": ".r",
   "mimetype": "text/x-r-source",
   "name": "R",
   "pygments_lexer": "r",
   "version": "4.4.2"
  }
 },
 "nbformat": 4,
 "nbformat_minor": 5
}
